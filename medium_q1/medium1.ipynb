{
 "cells": [
  {
   "cell_type": "code",
<<<<<<< HEAD
   "execution_count": 36,
   "metadata": {},
   "outputs": [
    {
     "name": "stdout",
     "output_type": "stream",
     "text": [
      "a\n",
      "b\n",
      "c\n",
      "d\n",
      "e\n",
      "f\n",
      "d\n",
      "e\n",
      "f\n",
      "d\n",
      "e\n",
      "f\n",
      "['ad', 'ae', 'af', 'bd', 'be', 'bf', 'cd', 'ce', 'cf']\n"
     ]
    }
   ],
   "source": [
    "class Solution:\n",
    "    def letterCombinations(self,digits):\n",
    "        if not digits: return []\n",
    "    \n",
=======
   "execution_count": 18,
   "metadata": {},
   "outputs": [],
   "source": [
    "class Solution:\n",
    "    def letterCombinations(self, digits):\n",
    "        if not digits: return []\n",
>>>>>>> b9ee1fa3fc5cbe40d8138a84bc741b7d06ac8741
    "        keypad = {'2': 'abc', '3': 'def', '4': 'ghi', '5': 'jkl', '6': 'mno',\n",
    "                     '7': 'pqrs', '8': 'tuv', '9': 'wxyz'}\n",
    "        result = ['']\n",
    "        for i in range(len(digits)):\n",
    "            new_result = []\n",
    "            for prev in result:\n",
<<<<<<< HEAD
    "                #print (prev)\n",
    "\n",
    "                for l in keypad[digits[i]]:\n",
    "                    print (l)\n",
    "                    new_result.append(prev+l)\n",
    "            result = new_result\n",
    "        print(new_result)\n",
    "\n",
    "s1= Solution()\n",
    "s1.letterCombinations('23')\n"
=======
    "                for l in keypad[digits[i]]:\n",
    "                    new_result.append(prev+l)\n",
    "            result = new_result\n",
    "        return result"
>>>>>>> b9ee1fa3fc5cbe40d8138a84bc741b7d06ac8741
   ]
  }
 ],
 "metadata": {
  "kernelspec": {
   "display_name": "base",
   "language": "python",
   "name": "python3"
  },
  "language_info": {
   "codemirror_mode": {
    "name": "ipython",
    "version": 3
   },
   "file_extension": ".py",
   "mimetype": "text/x-python",
   "name": "python",
   "nbconvert_exporter": "python",
   "pygments_lexer": "ipython3",
   "version": "3.10.9"
  },
  "orig_nbformat": 4
 },
 "nbformat": 4,
 "nbformat_minor": 2
}
