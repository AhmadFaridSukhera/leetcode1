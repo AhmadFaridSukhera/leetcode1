{
 "cells": [
  {
   "cell_type": "code",
   "execution_count": null,
   "metadata": {},
   "outputs": [],
   "source": [
    "class Solution:\n",
    "    def reverse(self, x):\n",
    "        if x <0:\n",
    "            sign=-1\n",
    "            x=abs(x)\n",
    "        else:\n",
    "            sign=1\n",
    "\n",
    "        rev= str(x)[::-1]\n",
    "        rev_num=int(rev)*sign\n",
    "        if -2147483648<rev_num<2147483648:\n",
    "            return rev_num\n",
    "            \n",
    "        else:\n",
    "             return 0"
   ]
<<<<<<< HEAD
  },
  {
   "cell_type": "code",
   "execution_count": 53,
   "metadata": {},
   "outputs": [
    {
     "ename": "TypeError",
     "evalue": "can only concatenate str (not \"set\") to str",
     "output_type": "error",
     "traceback": [
      "\u001b[1;31m---------------------------------------------------------------------------\u001b[0m",
      "\u001b[1;31mTypeError\u001b[0m                                 Traceback (most recent call last)",
      "Cell \u001b[1;32mIn[53], line 14\u001b[0m\n\u001b[0;32m     12\u001b[0m s1 \u001b[39m=\u001b[39m Solution()\n\u001b[0;32m     13\u001b[0m strs \u001b[39m=\u001b[39m [\u001b[39m\"\u001b[39m\u001b[39mflower\u001b[39m\u001b[39m\"\u001b[39m, \u001b[39m\"\u001b[39m\u001b[39mflow\u001b[39m\u001b[39m\"\u001b[39m, \u001b[39m\"\u001b[39m\u001b[39mflight\u001b[39m\u001b[39m\"\u001b[39m]\n\u001b[1;32m---> 14\u001b[0m s1\u001b[39m.\u001b[39;49mlongestCommonPrefix(strs)\n",
      "Cell \u001b[1;32mIn[53], line 8\u001b[0m, in \u001b[0;36mSolution.longestCommonPrefix\u001b[1;34m(self, strs)\u001b[0m\n\u001b[0;32m      6\u001b[0m \u001b[39mfor\u001b[39;00m word \u001b[39min\u001b[39;00m strs[\u001b[39m1\u001b[39m:]:\n\u001b[0;32m      7\u001b[0m     common_letters \u001b[39m=\u001b[39m common_letters\u001b[39m.\u001b[39mintersection(word)\n\u001b[1;32m----> 8\u001b[0m     char\u001b[39m+\u001b[39m\u001b[39m=\u001b[39mcommon_letters\n\u001b[0;32m      9\u001b[0m \u001b[39mprint\u001b[39m(\u001b[39m\"\u001b[39m\u001b[39mCommon letters:\u001b[39m\u001b[39m\"\u001b[39m, common_letters)\n",
      "\u001b[1;31mTypeError\u001b[0m: can only concatenate str (not \"set\") to str"
     ]
    }
   ],
   "source": [
    "class Solution():\n",
    "    def longestCommonPrefix(self, strs):\n",
    "        first = strs[0]\n",
    "        common_letters = set(first)\n",
    "        char=\"\"\n",
    "        for word in strs[1:]:\n",
    "            common_letters = common_letters.intersection(word)\n",
    "            char+=common_letters\n",
    "        print(\"Common letters:\", common_letters)\n",
    "    \n",
    "        \n",
    "s1 = Solution()\n",
    "strs = [\"flower\", \"flow\", \"flight\"]\n",
    "s1.longestCommonPrefix(strs)\n"
   ]
  }
 ],
 "metadata": {
  "kernelspec": {
   "display_name": "base",
   "language": "python",
   "name": "python3"
  },
  "language_info": {
   "codemirror_mode": {
    "name": "ipython",
    "version": 3
   },
   "file_extension": ".py",
   "mimetype": "text/x-python",
   "name": "python",
   "nbconvert_exporter": "python",
   "pygments_lexer": "ipython3",
   "version": "3.10.9"
=======
  }
 ],
 "metadata": {
  "language_info": {
   "name": "python"
>>>>>>> b9ee1fa3fc5cbe40d8138a84bc741b7d06ac8741
  },
  "orig_nbformat": 4
 },
 "nbformat": 4,
 "nbformat_minor": 2
}
