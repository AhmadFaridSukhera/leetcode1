{
 "cells": [
  {
   "cell_type": "code",
   "execution_count": 4,
   "metadata": {},
   "outputs": [
    {
     "name": "stdout",
     "output_type": "stream",
     "text": [
      "f\n",
      "l\n",
      "o\n",
      "w\n",
      "e\n",
      "r\n"
     ]
    },
    {
     "data": {
      "text/plain": [
       "'flow'"
      ]
     },
     "execution_count": 4,
     "metadata": {},
     "output_type": "execute_result"
    }
   ],
   "source": [
    "class Solution():\n",
    "    def longestCommonPrefix(self, strs):\n",
    "        first = strs[0]\n",
    "        common_letters = \"\"\n",
    "\n",
    "        for x in first:\n",
    "            print(x)\n",
    "            if all(x in word for word in strs[1:]):\n",
    "                \n",
    "                common_letters += x\n",
    "\n",
    "        return common_letters\n",
    "        \n",
    "s1 = Solution()\n",
    "strs = [\"flower\", \"flow\", \"flowight\"]\n",
    "s1.longestCommonPrefix(strs)"
   ]
  }
 ],
 "metadata": {
  "kernelspec": {
   "display_name": "base",
   "language": "python",
   "name": "python3"
  },
  "language_info": {
   "codemirror_mode": {
    "name": "ipython",
    "version": 3
   },
   "file_extension": ".py",
   "mimetype": "text/x-python",
   "name": "python",
   "nbconvert_exporter": "python",
   "pygments_lexer": "ipython3",
   "version": "3.10.9"
  },
  "orig_nbformat": 4
 },
 "nbformat": 4,
 "nbformat_minor": 2
}
