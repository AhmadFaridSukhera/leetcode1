{
 "cells": [
  {
   "cell_type": "code",
   "execution_count": null,
   "metadata": {},
   "outputs": [],
   "source": [
    "nums = [3,2,3] \n",
    "target =6\n",
    "for x in range(len(nums)-1):\n",
    "            self=nums[x]+nums[x+1]\n",
    "            if self==target:\n",
    "                print(x,x+1)\n",
    "\n",
    "for x in range(len(nums)-1):\n",
    "            for y in range(len(nums)):\n",
    "                if y==x:\n",
    "                    y=y+1\n",
    "                self=nums[x]+nums[y]\n",
    "                if self==target:\n",
    "                    print(x,y)"
   ]
  }
 ],
 "metadata": {
  "language_info": {
   "name": "python"
  },
  "orig_nbformat": 4
 },
 "nbformat": 4,
 "nbformat_minor": 2
}
